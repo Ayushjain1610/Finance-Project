{
 "cells": [
  {
   "cell_type": "code",
   "execution_count": 17,
   "id": "d2f2a9f3-0cec-48ee-8318-6ff6cb35b5bf",
   "metadata": {},
   "outputs": [],
   "source": [
    "import yfinance as yf\n",
    "import pandas as pd\n",
    "import numpy as np\n",
    "import datetime\n",
    "%matplotlib inline"
   ]
  },
  {
   "cell_type": "code",
   "execution_count": 19,
   "id": "c84879a5-701e-482d-a5a1-d906078cf348",
   "metadata": {},
   "outputs": [],
   "source": [
    "# Dates\n",
    "start = datetime.datetime(2010, 1, 1)\n",
    "end = datetime.datetime(2020, 1, 1)"
   ]
  },
  {
   "cell_type": "code",
   "execution_count": 27,
   "id": "647b05d9-9edc-4baf-b7ea-79840eff50df",
   "metadata": {},
   "outputs": [
    {
     "ename": "NameError",
     "evalue": "name 'yf' is not defined",
     "output_type": "error",
     "traceback": [
      "\u001b[0;31m---------------------------------------------------------------------------\u001b[0m",
      "\u001b[0;31mNameError\u001b[0m                                 Traceback (most recent call last)",
      "Cell \u001b[0;32mIn[27], line 3\u001b[0m\n\u001b[1;32m      1\u001b[0m \u001b[38;5;66;03m# Fetch stock data from Yahoo\u001b[39;00m\n\u001b[1;32m      2\u001b[0m tickers \u001b[38;5;241m=\u001b[39m [\u001b[38;5;124m'\u001b[39m\u001b[38;5;124mBAC\u001b[39m\u001b[38;5;124m'\u001b[39m, \u001b[38;5;124m'\u001b[39m\u001b[38;5;124mC\u001b[39m\u001b[38;5;124m'\u001b[39m, \u001b[38;5;124m'\u001b[39m\u001b[38;5;124mGS\u001b[39m\u001b[38;5;124m'\u001b[39m, \u001b[38;5;124m'\u001b[39m\u001b[38;5;124mJPM\u001b[39m\u001b[38;5;124m'\u001b[39m, \u001b[38;5;124m'\u001b[39m\u001b[38;5;124mMS\u001b[39m\u001b[38;5;124m'\u001b[39m, \u001b[38;5;124m'\u001b[39m\u001b[38;5;124mWFC\u001b[39m\u001b[38;5;124m'\u001b[39m]\n\u001b[0;32m----> 3\u001b[0m df \u001b[38;5;241m=\u001b[39m yf\u001b[38;5;241m.\u001b[39mdownload(tickers, start\u001b[38;5;241m=\u001b[39mstart, end\u001b[38;5;241m=\u001b[39mend, group_by\u001b[38;5;241m=\u001b[39m\u001b[38;5;124m'\u001b[39m\u001b[38;5;124mticker\u001b[39m\u001b[38;5;124m'\u001b[39m)\n",
      "\u001b[0;31mNameError\u001b[0m: name 'yf' is not defined"
     ]
    }
   ],
   "source": [
    "# Fetch stock data from Yahoo\n",
    "tickers = ['BAC', 'C', 'GS', 'JPM', 'MS', 'WFC']\n",
    "df = yf.download(tickers, start=start, end=end, group_by='ticker')"
   ]
  },
  {
   "cell_type": "code",
   "execution_count": null,
   "id": "0dae6565-e332-447f-84a1-d35b558d8814",
   "metadata": {},
   "outputs": [],
   "source": [
    "# Organize into bank_stocks DataFrame\n",
    "bank_stocks = df.copy()\n",
    "bank_stocks.columns.names = ['Bank Ticker', 'Stock Info']"
   ]
  },
  {
   "cell_type": "code",
   "execution_count": null,
   "id": "da7a2256-8074-48a5-ac84-975bdc2ea6df",
   "metadata": {},
   "outputs": [],
   "source": [
    "bank_stocks.head()"
   ]
  },
  {
   "cell_type": "code",
   "execution_count": null,
   "id": "125fbf1b-ee4f-4eaf-8886-17a31053f6ed",
   "metadata": {},
   "outputs": [],
   "source": []
  }
 ],
 "metadata": {
  "kernelspec": {
   "display_name": "Python 3 (ipykernel)",
   "language": "python",
   "name": "python3"
  },
  "language_info": {
   "codemirror_mode": {
    "name": "ipython",
    "version": 3
   },
   "file_extension": ".py",
   "mimetype": "text/x-python",
   "name": "python",
   "nbconvert_exporter": "python",
   "pygments_lexer": "ipython3",
   "version": "3.13.5"
  }
 },
 "nbformat": 4,
 "nbformat_minor": 5
}
